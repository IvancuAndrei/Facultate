{
 "cells": [
  {
   "cell_type": "code",
   "id": "initial_id",
   "metadata": {
    "collapsed": true,
    "ExecuteTime": {
     "end_time": "2024-04-16T07:48:27.963169Z",
     "start_time": "2024-04-16T07:48:26.117479Z"
    }
   },
   "source": [
    "from ucimlrepo import fetch_ucirepo \n",
    "  \n",
    "# fetch dataset \n",
    "iris = fetch_ucirepo(id=53) \n",
    "  \n",
    "# data (as pandas dataframes) \n",
    "X = iris.data.features \n",
    "y = iris.data.targets \n",
    "  \n",
    "# metadata \n",
    "print(iris.metadata) \n",
    "  \n",
    "# variable information \n",
    "print(iris.variables) \n"
   ],
   "outputs": [
    {
     "name": "stdout",
     "output_type": "stream",
     "text": [
      "{'uci_id': 53, 'name': 'Iris', 'repository_url': 'https://archive.ics.uci.edu/dataset/53/iris', 'data_url': 'https://archive.ics.uci.edu/static/public/53/data.csv', 'abstract': 'A small classic dataset from Fisher, 1936. One of the earliest known datasets used for evaluating classification methods.\\n', 'area': 'Biology', 'tasks': ['Classification'], 'characteristics': ['Tabular'], 'num_instances': 150, 'num_features': 4, 'feature_types': ['Real'], 'demographics': [], 'target_col': ['class'], 'index_col': None, 'has_missing_values': 'no', 'missing_values_symbol': None, 'year_of_dataset_creation': 1936, 'last_updated': 'Tue Sep 12 2023', 'dataset_doi': '10.24432/C56C76', 'creators': ['R. A. Fisher'], 'intro_paper': {'title': 'The Iris data set: In search of the source of virginica', 'authors': 'A. Unwin, K. Kleinman', 'published_in': 'Significance, 2021', 'year': 2021, 'url': 'https://www.semanticscholar.org/paper/4599862ea877863669a6a8e63a3c707a787d5d7e', 'doi': '1740-9713.01589'}, 'additional_info': {'summary': 'This is one of the earliest datasets used in the literature on classification methods and widely used in statistics and machine learning.  The data set contains 3 classes of 50 instances each, where each class refers to a type of iris plant.  One class is linearly separable from the other 2; the latter are not linearly separable from each other.\\n\\nPredicted attribute: class of iris plant.\\n\\nThis is an exceedingly simple domain.\\n\\nThis data differs from the data presented in Fishers article (identified by Steve Chadwick,  spchadwick@espeedaz.net ).  The 35th sample should be: 4.9,3.1,1.5,0.2,\"Iris-setosa\" where the error is in the fourth feature. The 38th sample: 4.9,3.6,1.4,0.1,\"Iris-setosa\" where the errors are in the second and third features.  ', 'purpose': 'N/A', 'funded_by': None, 'instances_represent': 'Each instance is a plant', 'recommended_data_splits': None, 'sensitive_data': None, 'preprocessing_description': None, 'variable_info': None, 'citation': None}}\n",
      "           name     role         type demographic  \\\n",
      "0  sepal length  Feature   Continuous        None   \n",
      "1   sepal width  Feature   Continuous        None   \n",
      "2  petal length  Feature   Continuous        None   \n",
      "3   petal width  Feature   Continuous        None   \n",
      "4         class   Target  Categorical        None   \n",
      "\n",
      "                                         description units missing_values  \n",
      "0                                               None    cm             no  \n",
      "1                                               None    cm             no  \n",
      "2                                               None    cm             no  \n",
      "3                                               None    cm             no  \n",
      "4  class of iris plant: Iris Setosa, Iris Versico...  None             no  \n"
     ]
    }
   ],
   "execution_count": 1
  },
  {
   "cell_type": "code",
   "source": [
    "# prerequisites\n",
    "import csv\n",
    "import os\n",
    "import matplotlib.pyplot as plt\n",
    "import numpy as np\n",
    "from sklearn import linear_model\n",
    "\n",
    "import numpy as np\n",
    "import matplotlib.pyplot as plt\n",
    "import numpy as np"
   ],
   "metadata": {
    "collapsed": false,
    "ExecuteTime": {
     "end_time": "2024-04-16T07:48:32.585867Z",
     "start_time": "2024-04-16T07:48:30.908679Z"
    }
   },
   "id": "d5c1456d4772b0c3",
   "outputs": [],
   "execution_count": 2
  },
  {
   "cell_type": "code",
   "source": [
    "class MyLogisticRegression:\n",
    "    def __init__(self):\n",
    "        self.intercept_ = 0.0\n",
    "        self.coef_ = []\n",
    "\n",
    "    def fit(self, x, y, learning_rate=0.001, num_epochs=1000):\n",
    "        self.coef_ = np.zeros(len(x[0]) + 1)  # Initialize coefficients with zeros\n",
    "        for epoch in range(num_epochs):\n",
    "            for i in range(len(x)):  # For each sample from the training data\n",
    "                y_predicted = self.sigmoid(self.eval(x[i]))  # Compute the predicted output\n",
    "                error = y_predicted - y[i]  # Compute the error for the current sample\n",
    "                for j in range(len(x[0])):  # Update the coefficients\n",
    "                    self.coef_[j] -= learning_rate * error * x[i][j]\n",
    "                self.coef_[-1] -= learning_rate * error  # Update the intercept\n",
    "        self.intercept_ = self.coef_[-1]\n",
    "        self.coef_ = self.coef_[:-1]\n",
    "\n",
    "    def sigmoid(self, z):\n",
    "        return 1 / (1 + np.exp(-z))\n",
    "\n",
    "    def eval(self, xi):\n",
    "        z = self.intercept_\n",
    "        for j in range(len(xi)):\n",
    "            z += self.coef_[j] * xi[j]\n",
    "        return z\n",
    "\n",
    "    def predict_proba(self, x):\n",
    "        probabilities = [self.sigmoid(self.eval(xi)) for xi in x]\n",
    "        return probabilities\n",
    "\n",
    "    def predict(self, x, threshold=0.7):\n",
    "        probabilities = self.predict_proba(x)\n",
    "        predictions = [1 if p >= threshold else 0 for p in probabilities]\n",
    "        return predictions"
   ],
   "metadata": {
    "collapsed": false,
    "ExecuteTime": {
     "end_time": "2024-04-16T07:48:36.243137Z",
     "start_time": "2024-04-16T07:48:36.222101Z"
    }
   },
   "id": "c66fca1c71bebf11",
   "outputs": [],
   "execution_count": 3
  },
  {
   "cell_type": "code",
   "source": [
    "class MyLogisticRegressionMultiClass:\n",
    "    def __init__(self, learning_rate=0.001, num_epochs=1000):\n",
    "        self.learning_rate = learning_rate\n",
    "        self.num_epochs = num_epochs\n",
    "        self.models = []  # Lista de modele pentru fiecare clasă\n",
    "\n",
    "    def sigmoid(self, z):\n",
    "        return 1 / (1 + np.exp(-z))\n",
    "\n",
    "    def dot(self, X, W):\n",
    "        return [sum(x * w) for x, w in zip(X, W)]\n",
    "\n",
    "    def fit(self, X, y):\n",
    "        num_classes = len(set(y))\n",
    "        for i in range(num_classes):\n",
    "            # Antrenăm un model de regresie logistică binară pentru fiecare clasă\n",
    "            model = MyLogisticRegression()\n",
    "            y_binary = [1 if label == i else 0 for label in y]  # Transformăm clasa curentă în 1 și toate celelalte clase în 0\n",
    "            model.fit(X, y_binary)\n",
    "            self.models.append(model)\n",
    "\n",
    "    def predict_proba(self, X):\n",
    "        probabilities = []\n",
    "        for model in self.models:\n",
    "            probabilities.append(model.predict_proba(X))\n",
    "        return probabilities\n",
    "\n",
    "    def predict(self, X):\n",
    "        probabilities = self.predict_proba(X)\n",
    "        return [max(enumerate(probs), key=lambda x: x[1])[0] for probs in zip(*probabilities)]\n"
   ],
   "metadata": {
    "collapsed": false,
    "ExecuteTime": {
     "end_time": "2024-04-16T07:48:39.249966Z",
     "start_time": "2024-04-16T07:48:39.236885Z"
    }
   },
   "id": "40aae6d19bc55d21",
   "outputs": [],
   "execution_count": 4
  },
  {
   "cell_type": "code",
   "source": [
    "def loadData(fileName, inputVariabNames, outputVariabName):\n",
    "    data = []\n",
    "    dataNames = []\n",
    "    with open(fileName) as csv_file:\n",
    "        csv_reader = csv.reader(csv_file, delimiter=',')\n",
    "        line_count = 0\n",
    "        for row in csv_reader:\n",
    "            if line_count == 0:\n",
    "                dataNames = row\n",
    "            else:\n",
    "                data.append(row)\n",
    "            line_count += 1\n",
    "    selectedVariables = [dataNames.index(inputVariabNames[i]) for i in range(len(inputVariabNames))]\n",
    "    print(len(data[i]) for i in range(len(data)))\n",
    "    inputs = [[float(data[i][selectedVariable]) for selectedVariable in selectedVariables] for i in range(len(data))]\n",
    "    selectedOutput = dataNames.index(outputVariabName)\n",
    "    outputs = [data[i][selectedOutput] for i in range(len(data))]\n",
    "    \n",
    "    set_outputs = set(outputs)\n",
    "    dict_outputs = {}\n",
    "    i = 0\n",
    "    for o in set_outputs:\n",
    "        dict_outputs[o] = i\n",
    "        i+= 1\n",
    "    \n",
    "    outputs = [dict_outputs[o] for o in outputs]\n",
    "    \n",
    "    return inputs, outputs"
   ],
   "metadata": {
    "collapsed": false,
    "ExecuteTime": {
     "end_time": "2024-04-16T07:49:58.915688Z",
     "start_time": "2024-04-16T07:49:58.908448Z"
    }
   },
   "id": "ea83ff3c90dc3bc2",
   "outputs": [],
   "execution_count": 5
  },
  {
   "cell_type": "code",
   "source": [
    "crtDir = os.getcwd()\n",
    "filePath = os.path.join(crtDir, 'data', 'iris.data')\n",
    "inputs, outputs = loadData(filePath, ['sepal_length','sepal_width','petal_length','petal_width'], 'iris_type')\n",
    "print('in:  ', inputs[:5])\n",
    "print('out: ', outputs[:5])"
   ],
   "metadata": {
    "collapsed": false,
    "ExecuteTime": {
     "end_time": "2024-04-16T07:52:29.933974Z",
     "start_time": "2024-04-16T07:52:29.915233Z"
    }
   },
   "id": "271dbf051dd7e3af",
   "outputs": [
    {
     "name": "stdout",
     "output_type": "stream",
     "text": [
      "<generator object loadData.<locals>.<genexpr> at 0x000001E7BADB12A0>\n",
      "in:   [[5.1, 3.5, 1.4, 0.2], [4.9, 3.0, 1.4, 0.2], [4.7, 3.2, 1.3, 0.2], [4.6, 3.1, 1.5, 0.2], [5.0, 3.6, 1.4, 0.2]]\n",
      "out:  [0, 0, 0, 0, 0]\n"
     ]
    }
   ],
   "execution_count": 9
  },
  {
   "cell_type": "code",
   "source": [
    "def plotDataHistogram(x, variableName):\n",
    "    n, bins, patches = plt.hist(x, 10)\n",
    "    plt.title('Histogram of ' + variableName)\n",
    "    plt.show()\n",
    "\n",
    "plotDataHistogram([inputs[i][0] for i in range(len(inputs))], 'sepal_length')\n",
    "plotDataHistogram([inputs[i][1] for i in range(len(inputs))], 'sepal_width')\n",
    "plotDataHistogram([inputs[i][2] for i in range(len(inputs))], 'petal_length')\n",
    "plotDataHistogram([inputs[i][3] for i in range(len(inputs))], 'petal_width')\n",
    "plotDataHistogram(outputs, 'iris_type')"
   ],
   "metadata": {
    "collapsed": false,
    "ExecuteTime": {
     "end_time": "2024-04-16T07:52:32.968008Z",
     "start_time": "2024-04-16T07:52:32.171158Z"
    }
   },
   "id": "44b811cdbc8a98a",
   "outputs": [
    {
     "data": {
      "text/plain": [
       "<Figure size 640x480 with 1 Axes>"
      ],
      "image/png": "[encoded data removed]"
     },
     "metadata": {},
     "output_type": "display_data"
    },
    {
     "data": {
      "text/plain": [
       "<Figure size 640x480 with 1 Axes>"
      ],
      "image/png": "[encoded data removed]"
     },
     "metadata": {},
     "output_type": "display_data"
    },
    {
     "data": {
      "text/plain": [
       "<Figure size 640x480 with 1 Axes>"
      ],
      "image/png": "[encoded data removed]"
     },
     "metadata": {},
     "output_type": "display_data"
    },
    {
     "data": {
      "text/plain": [
       "<Figure size 640x480 with 1 Axes>"
      ],
      "image/png": "[encoded data removed]"
     },
     "metadata": {},
     "output_type": "display_data"
    },
    {
     "data": {
      "text/plain": [
       "<Figure size 640x480 with 1 Axes>"
      ],
      "image/png": "[encoded data removed]"
     },
     "metadata": {},
     "output_type": "display_data"
    }
   ],
   "execution_count": 10
  },
  {
   "cell_type": "code",
   "source": [
    "def normalisation(trainData, testData):\n",
    "    for i in range(len(trainData[0])):\n",
    "        trainData[i] = (trainData[i] - np.min(trainData[i])) / (np.max(trainData[i]) - np.min(trainData[i]))\n",
    "        testData[i] = (testData[i] - np.min(trainData[i])) / (np.max(trainData[i]) - np.min(trainData[i]))\n",
    "    return trainData, testData"
   ],
   "metadata": {
    "collapsed": false,
    "ExecuteTime": {
     "end_time": "2024-04-16T07:52:37.559693Z",
     "start_time": "2024-04-16T07:52:37.541665Z"
    }
   },
   "id": "1ee8d3c4d3fe7c89",
   "outputs": [],
   "execution_count": 11
  },
  {
   "cell_type": "code",
   "source": [
    "np.random.seed(5)\n",
    "indexes = [i for i in range(len(inputs))]\n",
    "trainSample = np.random.choice(indexes, int(0.8 * len(inputs)), replace = False)\n",
    "testSample = [i for i in indexes  if not i in trainSample]\n",
    "\n",
    "trainInputs = [inputs[i] for i in trainSample]\n",
    "trainOutputs = [outputs[i] for i in trainSample]\n",
    "testInputs = [inputs[i] for i in testSample]\n",
    "testOutputs = [outputs[i] for i in testSample]\n",
    "\n",
    "trainInputs1, testInputs = normalisation(trainInputs, testInputs)\n",
    "\n",
    "\n",
    "testInputsNP = np.array(testInputs)\n",
    "testOutputsNP = np.array(testOutputs)\n",
    "trainInputsNP = np.array(trainInputs)\n",
    "trainOutputsNP = np.array(trainOutputs)\n",
    "\n",
    "# \n",
    "# plotDataHistogram([trainInputs[i][0] for i in range(len(trainInputs))], 'sepal_length_after_normalization')\n",
    "# plotDataHistogram([trainInputs[i][1] for i in range(len(trainInputs))], 'sepal_width_after_normalization')\n",
    "# plotDataHistogram([trainInputs[i][2] for i in range(len(trainInputs))], 'petal_length_after_normalization')\n",
    "# plotDataHistogram([trainInputs[i][3] for i in range(len(trainInputs))], 'petal_width_after_normalization')"
   ],
   "metadata": {
    "collapsed": false,
    "ExecuteTime": {
     "end_time": "2024-04-16T07:52:40.141270Z",
     "start_time": "2024-04-16T07:52:40.126162Z"
    }
   },
   "id": "c3ee6dc374cf8c8f",
   "outputs": [],
   "execution_count": 12
  },
  {
   "cell_type": "code",
   "source": [
    "from sklearn.linear_model import LogisticRegression\n",
    "\n",
    "# Inițializează modelul\n",
    "# regressor = MyLogisticRegressionMultiClass()\n",
    "# regressor.fit(trainInputs, trainOutputs)\n",
    "# computedTestOutputs = regressor.predict(testInputs)\n",
    "\n",
    "\n",
    "\n",
    "# Tool\n",
    "regressor = LogisticRegression()\n",
    "regressor.fit(trainInputs,  trainOutputs)\n",
    "computedTestOutputs = regressor.predict(testInputs)"
   ],
   "metadata": {
    "collapsed": false,
    "ExecuteTime": {
     "end_time": "2024-04-16T08:40:41.728603Z",
     "start_time": "2024-04-16T08:40:41.707334Z"
    }
   },
   "id": "c0f24c1753975146",
   "outputs": [],
   "execution_count": 19
  },
  {
   "metadata": {},
   "cell_type": "markdown",
   "source": "",
   "id": "29544c3b6106cac4"
  },
  {
   "cell_type": "code",
   "source": [
    "from sklearn.metrics import accuracy_score\n",
    "\n",
    "acc = sum([1 if testOutputs[i] == computedTestOutputs[i] else 0 for i in range(0, len(testOutputs))]) / len(testOutputs)\n",
    "print('prediction error (manual): ', acc)\n",
    "\n",
    "# by using sklearn\n",
    "from sklearn.metrics import mean_squared_error\n",
    "\n",
    "error = accuracy_score(testOutputs, computedTestOutputs)\n",
    "print('prediction error (tool):  ', error)\n"
   ],
   "metadata": {
    "collapsed": false,
    "ExecuteTime": {
     "end_time": "2024-04-16T08:40:43.743207Z",
     "start_time": "2024-04-16T08:40:43.730146Z"
    }
   },
   "id": "2659380dde672c17",
   "outputs": [
    {
     "name": "stdout",
     "output_type": "stream",
     "text": [
      "prediction error (manual):  1.0\n",
      "prediction error (tool):   1.0\n"
     ]
    }
   ],
   "execution_count": 20
  },
  {
   "metadata": {},
   "cell_type": "code",
   "outputs": [],
   "execution_count": null,
   "source": "",
   "id": "b8f15952428c7205"
  }
 ],
 "metadata": {
  "kernelspec": {
   "display_name": "Python 3",
   "language": "python",
   "name": "python3"
  },
  "language_info": {
   "codemirror_mode": {
    "name": "ipython",
    "version": 2
   },
   "file_extension": ".py",
   "mimetype": "text/x-python",
   "name": "python",
   "nbconvert_exporter": "python",
   "pygments_lexer": "ipython2",
   "version": "2.7.6"
  }
 },
 "nbformat": 4,
 "nbformat_minor": 5
}
