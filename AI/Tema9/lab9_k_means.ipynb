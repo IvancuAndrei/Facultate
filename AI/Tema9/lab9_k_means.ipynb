{
 "cells": [
  {
   "cell_type": "markdown",
   "source": [
    "Stabiliti care este sentimentul transmis prin mesajul By choosing a bike over a car, I’m reducing my environmental footprint. Cycling promotes eco-friendly transportation, and I’m proud to be part of that movement..\n",
    "\n",
    "Folositi:\n",
    "\n",
    "clasificatorul bazat pe k-means antrenat de voi (folosind o biblioteca care implementeaza algoritmul k-means)"
   ],
   "metadata": {
    "collapsed": false
   },
   "id": "22647ba46c98fcee"
  },
  {
   "cell_type": "code",
   "source": [
    "# Pasul 1 - incarcare date\n",
    "\n",
    "import csv\n",
    "import os\n",
    "crtDir = os.getcwd()\n",
    "fileName = os.path.join(crtDir, 'reviews_mixed.csv')\n",
    "\n",
    "data = []\n",
    "with open(fileName) as csv_file:\n",
    "    csv_reader = csv.reader(csv_file, delimiter=',')\n",
    "    line_count = 0\n",
    "    for row in csv_reader:\n",
    "        if line_count == 0:\n",
    "            dataNames = row\n",
    "        else:\n",
    "            data.append(row)\n",
    "        line_count += 1\n",
    "\n",
    "inputs = [data[i][0] for i in range(len(data))][:100]\n",
    "outputs = [data[i][1] for i in range(len(data))][:100]\n",
    "labelNames = list(set(outputs))\n",
    "\n",
    "print(inputs[:2])\n",
    "print(\"The label types are: \", labelNames[:2])"
   ],
   "metadata": {
    "collapsed": false,
    "ExecuteTime": {
     "end_time": "2024-05-14T07:55:54.261851Z",
     "start_time": "2024-05-14T07:55:54.238793Z"
    }
   },
   "id": "4fb73db3248460a",
   "outputs": [
    {
     "name": "stdout",
     "output_type": "stream",
     "text": [
      "['The rooms are extremely small, practically only a bed.', 'Room safe did not work.']\n",
      "The label types are:  ['positive', 'negative']\n"
     ]
    }
   ],
   "execution_count": 28
  },
  {
   "cell_type": "code",
   "source": [
    "# Pasul 2 - impartire date (antrenament si test)\n",
    "\n",
    "import numpy as np\n",
    "\n",
    "np.random.seed(5)\n",
    "\n",
    "noSamples = len(inputs)\n",
    "indexes = [i for i in range(noSamples)]\n",
    "trainSample = np.random.choice(indexes, int(0.8 * noSamples), replace=False)\n",
    "testSample = [i for i in indexes if not i in trainSample]\n",
    "\n",
    "trainInputs = [inputs[i] for i in trainSample]\n",
    "trainOutputs = [outputs[i] for i in trainSample]\n",
    "testInputs = [inputs[i] for i in testSample]\n",
    "testOutputs = [outputs[i] for i in testSample]\n"
   ],
   "metadata": {
    "collapsed": false,
    "ExecuteTime": {
     "end_time": "2024-05-14T07:55:56.799598Z",
     "start_time": "2024-05-14T07:55:56.785625Z"
    }
   },
   "id": "8e5e711c6c79ff00",
   "outputs": [],
   "execution_count": 29
  },
  {
   "cell_type": "code",
   "source": [
    "# Pasul 3 - extragere caracteristici\n",
    "\n",
    "\n",
    "from sklearn.feature_extraction.text import TfidfVectorizer\n",
    "\n",
    "vectorizer = TfidfVectorizer(max_features=50)\n",
    "\n",
    "trainFeatures = vectorizer.fit_transform(trainInputs)\n",
    "testFeatures = vectorizer.transform(testInputs)\n",
    "\n",
    "\n",
    "vectorizer = TfidfVectorizer(max_features=50)\n",
    "\n",
    "\n",
    "def featureComputation(vectorizer, data):\n",
    "    features = vectorizer.fit_transform(data).toarray()\n",
    "    return features\n",
    "\n",
    "\n",
    "trainFeatures = featureComputation(vectorizer, trainInputs)\n",
    "testFeatures = featureComputation(vectorizer, testInputs)\n",
    "\n",
    "print('Vocabulary: ', vectorizer.get_feature_names_out()[:10])\n",
    "# print('Features: ', trainFeatures[:3])"
   ],
   "metadata": {
    "collapsed": false,
    "ExecuteTime": {
     "end_time": "2024-05-14T07:55:58.643588Z",
     "start_time": "2024-05-14T07:55:58.607576Z"
    }
   },
   "id": "908371dc88d5ad4a",
   "outputs": [
    {
     "name": "stdout",
     "output_type": "stream",
     "text": [
      "Vocabulary:  ['aircon' 'and' 'are' 'bathroom' 'bed' 'building' 'cleaned' 'comfortable'\n",
      " 'filthy' 'for']\n"
     ]
    }
   ],
   "execution_count": 30
  },
  {
   "cell_type": "code",
   "source": [
    "#Pasul 4 - antrenare model de invatare nesupervizata (clustering)\n",
    "\n",
    "from sklearn.cluster import KMeans\n",
    "unsupervisedClassifier = KMeans(n_clusters=2, random_state=0)\n",
    "unsupervisedClassifier.fit(trainFeatures)"
   ],
   "metadata": {
    "collapsed": false,
    "ExecuteTime": {
     "end_time": "2024-05-14T07:56:00.399457Z",
     "start_time": "2024-05-14T07:56:00.369447Z"
    }
   },
   "id": "31b0f58d7830d43d",
   "outputs": [
    {
     "data": {
      "text/plain": [
       "KMeans(n_clusters=2, random_state=0)"
      ],
      "text/html": [
       "<style>#sk-container-id-3 {\n",
       "  /* Definition of color scheme common for light and dark mode */\n",
       "  --sklearn-color-text: black;\n",
       "  --sklearn-color-line: gray;\n",
       "  /* Definition of color scheme for unfitted estimators */\n",
       "  --sklearn-color-unfitted-level-0: #fff5e6;\n",
       "  --sklearn-color-unfitted-level-1: #f6e4d2;\n",
       "  --sklearn-color-unfitted-level-2: #ffe0b3;\n",
       "  --sklearn-color-unfitted-level-3: chocolate;\n",
       "  /* Definition of color scheme for fitted estimators */\n",
       "  --sklearn-color-fitted-level-0: #f0f8ff;\n",
       "  --sklearn-color-fitted-level-1: #d4ebff;\n",
       "  --sklearn-color-fitted-level-2: #b3dbfd;\n",
       "  --sklearn-color-fitted-level-3: cornflowerblue;\n",
       "\n",
       "  /* Specific color for light theme */\n",
       "  --sklearn-color-text-on-default-background: var(--sg-text-color, var(--theme-code-foreground, var(--jp-content-font-color1, black)));\n",
       "  --sklearn-color-background: var(--sg-background-color, var(--theme-background, var(--jp-layout-color0, white)));\n",
       "  --sklearn-color-border-box: var(--sg-text-color, var(--theme-code-foreground, var(--jp-content-font-color1, black)));\n",
       "  --sklearn-color-icon: #696969;\n",
       "\n",
       "  @media (prefers-color-scheme: dark) {\n",
       "    /* Redefinition of color scheme for dark theme */\n",
       "    --sklearn-color-text-on-default-background: var(--sg-text-color, var(--theme-code-foreground, var(--jp-content-font-color1, white)));\n",
       "    --sklearn-color-background: var(--sg-background-color, var(--theme-background, var(--jp-layout-color0, #111)));\n",
       "    --sklearn-color-border-box: var(--sg-text-color, var(--theme-code-foreground, var(--jp-content-font-color1, white)));\n",
       "    --sklearn-color-icon: #878787;\n",
       "  }\n",
       "}\n",
       "\n",
       "#sk-container-id-3 {\n",
       "  color: var(--sklearn-color-text);\n",
       "}\n",
       "\n",
       "#sk-container-id-3 pre {\n",
       "  padding: 0;\n",
       "}\n",
       "\n",
       "#sk-container-id-3 input.sk-hidden--visually {\n",
       "  border: 0;\n",
       "  clip: rect(1px 1px 1px 1px);\n",
       "  clip: rect(1px, 1px, 1px, 1px);\n",
       "  height: 1px;\n",
       "  margin: -1px;\n",
       "  overflow: hidden;\n",
       "  padding: 0;\n",
       "  position: absolute;\n",
       "  width: 1px;\n",
       "}\n",
       "\n",
       "#sk-container-id-3 div.sk-dashed-wrapped {\n",
       "  border: 1px dashed var(--sklearn-color-line);\n",
       "  margin: 0 0.4em 0.5em 0.4em;\n",
       "  box-sizing: border-box;\n",
       "  padding-bottom: 0.4em;\n",
       "  background-color: var(--sklearn-color-background);\n",
       "}\n",
       "\n",
       "#sk-container-id-3 div.sk-container {\n",
       "  /* jupyter's `normalize.less` sets `[hidden] { display: none; }`\n",
       "     but bootstrap.min.css set `[hidden] { display: none !important; }`\n",
       "     so we also need the `!important` here to be able to override the\n",
       "     default hidden behavior on the sphinx rendered scikit-learn.org.\n",
       "     See: https://github.com/scikit-learn/scikit-learn/issues/21755 */\n",
       "  display: inline-block !important;\n",
       "  position: relative;\n",
       "}\n",
       "\n",
       "#sk-container-id-3 div.sk-text-repr-fallback {\n",
       "  display: none;\n",
       "}\n",
       "\n",
       "div.sk-parallel-item,\n",
       "div.sk-serial,\n",
       "div.sk-item {\n",
       "  /* draw centered vertical line to link estimators */\n",
       "  background-image: linear-gradient(var(--sklearn-color-text-on-default-background), var(--sklearn-color-text-on-default-background));\n",
       "  background-size: 2px 100%;\n",
       "  background-repeat: no-repeat;\n",
       "  background-position: center center;\n",
       "}\n",
       "\n",
       "/* Parallel-specific style estimator block */\n",
       "\n",
       "#sk-container-id-3 div.sk-parallel-item::after {\n",
       "  content: \"\";\n",
       "  width: 100%;\n",
       "  border-bottom: 2px solid var(--sklearn-color-text-on-default-background);\n",
       "  flex-grow: 1;\n",
       "}\n",
       "\n",
       "#sk-container-id-3 div.sk-parallel {\n",
       "  display: flex;\n",
       "  align-items: stretch;\n",
       "  justify-content: center;\n",
       "  background-color: var(--sklearn-color-background);\n",
       "  position: relative;\n",
       "}\n",
       "\n",
       "#sk-container-id-3 div.sk-parallel-item {\n",
       "  display: flex;\n",
       "  flex-direction: column;\n",
       "}\n",
       "\n",
       "#sk-container-id-3 div.sk-parallel-item:first-child::after {\n",
       "  align-self: flex-end;\n",
       "  width: 50%;\n",
       "}\n",
       "\n",
       "#sk-container-id-3 div.sk-parallel-item:last-child::after {\n",
       "  align-self: flex-start;\n",
       "  width: 50%;\n",
       "}\n",
       "\n",
       "#sk-container-id-3 div.sk-parallel-item:only-child::after {\n",
       "  width: 0;\n",
       "}\n",
       "\n",
       "/* Serial-specific style estimator block */\n",
       "\n",
       "#sk-container-id-3 div.sk-serial {\n",
       "  display: flex;\n",
       "  flex-direction: column;\n",
       "  align-items: center;\n",
       "  background-color: var(--sklearn-color-background);\n",
       "  padding-right: 1em;\n",
       "  padding-left: 1em;\n",
       "}\n",
       "\n",
       "\n",
       "/* Toggleable style: style used for estimator/Pipeline/ColumnTransformer box that is\n",
       "clickable and can be expanded/collapsed.\n",
       "- Pipeline and ColumnTransformer use this feature and define the default style\n",
       "- Estimators will overwrite some part of the style using the `sk-estimator` class\n",
       "*/\n",
       "\n",
       "/* Pipeline and ColumnTransformer style (default) */\n",
       "\n",
       "#sk-container-id-3 div.sk-toggleable {\n",
       "  /* Default theme specific background. It is overwritten whether we have a\n",
       "  specific estimator or a Pipeline/ColumnTransformer */\n",
       "  background-color: var(--sklearn-color-background);\n",
       "}\n",
       "\n",
       "/* Toggleable label */\n",
       "#sk-container-id-3 label.sk-toggleable__label {\n",
       "  cursor: pointer;\n",
       "  display: block;\n",
       "  width: 100%;\n",
       "  margin-bottom: 0;\n",
       "  padding: 0.5em;\n",
       "  box-sizing: border-box;\n",
       "  text-align: center;\n",
       "}\n",
       "\n",
       "#sk-container-id-3 label.sk-toggleable__label-arrow:before {\n",
       "  /* Arrow on the left of the label */\n",
       "  content: \"▸\";\n",
       "  float: left;\n",
       "  margin-right: 0.25em;\n",
       "  color: var(--sklearn-color-icon);\n",
       "}\n",
       "\n",
       "#sk-container-id-3 label.sk-toggleable__label-arrow:hover:before {\n",
       "  color: var(--sklearn-color-text);\n",
       "}\n",
       "\n",
       "/* Toggleable content - dropdown */\n",
       "\n",
       "#sk-container-id-3 div.sk-toggleable__content {\n",
       "  max-height: 0;\n",
       "  max-width: 0;\n",
       "  overflow: hidden;\n",
       "  text-align: left;\n",
       "  /* unfitted */\n",
       "  background-color: var(--sklearn-color-unfitted-level-0);\n",
       "}\n",
       "\n",
       "#sk-container-id-3 div.sk-toggleable__content.fitted {\n",
       "  /* fitted */\n",
       "  background-color: var(--sklearn-color-fitted-level-0);\n",
       "}\n",
       "\n",
       "#sk-container-id-3 div.sk-toggleable__content pre {\n",
       "  margin: 0.2em;\n",
       "  border-radius: 0.25em;\n",
       "  color: var(--sklearn-color-text);\n",
       "  /* unfitted */\n",
       "  background-color: var(--sklearn-color-unfitted-level-0);\n",
       "}\n",
       "\n",
       "#sk-container-id-3 div.sk-toggleable__content.fitted pre {\n",
       "  /* unfitted */\n",
       "  background-color: var(--sklearn-color-fitted-level-0);\n",
       "}\n",
       "\n",
       "#sk-container-id-3 input.sk-toggleable__control:checked~div.sk-toggleable__content {\n",
       "  /* Expand drop-down */\n",
       "  max-height: 200px;\n",
       "  max-width: 100%;\n",
       "  overflow: auto;\n",
       "}\n",
       "\n",
       "#sk-container-id-3 input.sk-toggleable__control:checked~label.sk-toggleable__label-arrow:before {\n",
       "  content: \"▾\";\n",
       "}\n",
       "\n",
       "/* Pipeline/ColumnTransformer-specific style */\n",
       "\n",
       "#sk-container-id-3 div.sk-label input.sk-toggleable__control:checked~label.sk-toggleable__label {\n",
       "  color: var(--sklearn-color-text);\n",
       "  background-color: var(--sklearn-color-unfitted-level-2);\n",
       "}\n",
       "\n",
       "#sk-container-id-3 div.sk-label.fitted input.sk-toggleable__control:checked~label.sk-toggleable__label {\n",
       "  background-color: var(--sklearn-color-fitted-level-2);\n",
       "}\n",
       "\n",
       "/* Estimator-specific style */\n",
       "\n",
       "/* Colorize estimator box */\n",
       "#sk-container-id-3 div.sk-estimator input.sk-toggleable__control:checked~label.sk-toggleable__label {\n",
       "  /* unfitted */\n",
       "  background-color: var(--sklearn-color-unfitted-level-2);\n",
       "}\n",
       "\n",
       "#sk-container-id-3 div.sk-estimator.fitted input.sk-toggleable__control:checked~label.sk-toggleable__label {\n",
       "  /* fitted */\n",
       "  background-color: var(--sklearn-color-fitted-level-2);\n",
       "}\n",
       "\n",
       "#sk-container-id-3 div.sk-label label.sk-toggleable__label,\n",
       "#sk-container-id-3 div.sk-label label {\n",
       "  /* The background is the default theme color */\n",
       "  color: var(--sklearn-color-text-on-default-background);\n",
       "}\n",
       "\n",
       "/* On hover, darken the color of the background */\n",
       "#sk-container-id-3 div.sk-label:hover label.sk-toggleable__label {\n",
       "  color: var(--sklearn-color-text);\n",
       "  background-color: var(--sklearn-color-unfitted-level-2);\n",
       "}\n",
       "\n",
       "/* Label box, darken color on hover, fitted */\n",
       "#sk-container-id-3 div.sk-label.fitted:hover label.sk-toggleable__label.fitted {\n",
       "  color: var(--sklearn-color-text);\n",
       "  background-color: var(--sklearn-color-fitted-level-2);\n",
       "}\n",
       "\n",
       "/* Estimator label */\n",
       "\n",
       "#sk-container-id-3 div.sk-label label {\n",
       "  font-family: monospace;\n",
       "  font-weight: bold;\n",
       "  display: inline-block;\n",
       "  line-height: 1.2em;\n",
       "}\n",
       "\n",
       "#sk-container-id-3 div.sk-label-container {\n",
       "  text-align: center;\n",
       "}\n",
       "\n",
       "/* Estimator-specific */\n",
       "#sk-container-id-3 div.sk-estimator {\n",
       "  font-family: monospace;\n",
       "  border: 1px dotted var(--sklearn-color-border-box);\n",
       "  border-radius: 0.25em;\n",
       "  box-sizing: border-box;\n",
       "  margin-bottom: 0.5em;\n",
       "  /* unfitted */\n",
       "  background-color: var(--sklearn-color-unfitted-level-0);\n",
       "}\n",
       "\n",
       "#sk-container-id-3 div.sk-estimator.fitted {\n",
       "  /* fitted */\n",
       "  background-color: var(--sklearn-color-fitted-level-0);\n",
       "}\n",
       "\n",
       "/* on hover */\n",
       "#sk-container-id-3 div.sk-estimator:hover {\n",
       "  /* unfitted */\n",
       "  background-color: var(--sklearn-color-unfitted-level-2);\n",
       "}\n",
       "\n",
       "#sk-container-id-3 div.sk-estimator.fitted:hover {\n",
       "  /* fitted */\n",
       "  background-color: var(--sklearn-color-fitted-level-2);\n",
       "}\n",
       "\n",
       "/* Specification for estimator info (e.g. \"i\" and \"?\") */\n",
       "\n",
       "/* Common style for \"i\" and \"?\" */\n",
       "\n",
       ".sk-estimator-doc-link,\n",
       "a:link.sk-estimator-doc-link,\n",
       "a:visited.sk-estimator-doc-link {\n",
       "  float: right;\n",
       "  font-size: smaller;\n",
       "  line-height: 1em;\n",
       "  font-family: monospace;\n",
       "  background-color: var(--sklearn-color-background);\n",
       "  border-radius: 1em;\n",
       "  height: 1em;\n",
       "  width: 1em;\n",
       "  text-decoration: none !important;\n",
       "  margin-left: 1ex;\n",
       "  /* unfitted */\n",
       "  border: var(--sklearn-color-unfitted-level-1) 1pt solid;\n",
       "  color: var(--sklearn-color-unfitted-level-1);\n",
       "}\n",
       "\n",
       ".sk-estimator-doc-link.fitted,\n",
       "a:link.sk-estimator-doc-link.fitted,\n",
       "a:visited.sk-estimator-doc-link.fitted {\n",
       "  /* fitted */\n",
       "  border: var(--sklearn-color-fitted-level-1) 1pt solid;\n",
       "  color: var(--sklearn-color-fitted-level-1);\n",
       "}\n",
       "\n",
       "/* On hover */\n",
       "div.sk-estimator:hover .sk-estimator-doc-link:hover,\n",
       ".sk-estimator-doc-link:hover,\n",
       "div.sk-label-container:hover .sk-estimator-doc-link:hover,\n",
       ".sk-estimator-doc-link:hover {\n",
       "  /* unfitted */\n",
       "  background-color: var(--sklearn-color-unfitted-level-3);\n",
       "  color: var(--sklearn-color-background);\n",
       "  text-decoration: none;\n",
       "}\n",
       "\n",
       "div.sk-estimator.fitted:hover .sk-estimator-doc-link.fitted:hover,\n",
       ".sk-estimator-doc-link.fitted:hover,\n",
       "div.sk-label-container:hover .sk-estimator-doc-link.fitted:hover,\n",
       ".sk-estimator-doc-link.fitted:hover {\n",
       "  /* fitted */\n",
       "  background-color: var(--sklearn-color-fitted-level-3);\n",
       "  color: var(--sklearn-color-background);\n",
       "  text-decoration: none;\n",
       "}\n",
       "\n",
       "/* Span, style for the box shown on hovering the info icon */\n",
       ".sk-estimator-doc-link span {\n",
       "  display: none;\n",
       "  z-index: 9999;\n",
       "  position: relative;\n",
       "  font-weight: normal;\n",
       "  right: .2ex;\n",
       "  padding: .5ex;\n",
       "  margin: .5ex;\n",
       "  width: min-content;\n",
       "  min-width: 20ex;\n",
       "  max-width: 50ex;\n",
       "  color: var(--sklearn-color-text);\n",
       "  box-shadow: 2pt 2pt 4pt #999;\n",
       "  /* unfitted */\n",
       "  background: var(--sklearn-color-unfitted-level-0);\n",
       "  border: .5pt solid var(--sklearn-color-unfitted-level-3);\n",
       "}\n",
       "\n",
       ".sk-estimator-doc-link.fitted span {\n",
       "  /* fitted */\n",
       "  background: var(--sklearn-color-fitted-level-0);\n",
       "  border: var(--sklearn-color-fitted-level-3);\n",
       "}\n",
       "\n",
       ".sk-estimator-doc-link:hover span {\n",
       "  display: block;\n",
       "}\n",
       "\n",
       "/* \"?\"-specific style due to the `<a>` HTML tag */\n",
       "\n",
       "#sk-container-id-3 a.estimator_doc_link {\n",
       "  float: right;\n",
       "  font-size: 1rem;\n",
       "  line-height: 1em;\n",
       "  font-family: monospace;\n",
       "  background-color: var(--sklearn-color-background);\n",
       "  border-radius: 1rem;\n",
       "  height: 1rem;\n",
       "  width: 1rem;\n",
       "  text-decoration: none;\n",
       "  /* unfitted */\n",
       "  color: var(--sklearn-color-unfitted-level-1);\n",
       "  border: var(--sklearn-color-unfitted-level-1) 1pt solid;\n",
       "}\n",
       "\n",
       "#sk-container-id-3 a.estimator_doc_link.fitted {\n",
       "  /* fitted */\n",
       "  border: var(--sklearn-color-fitted-level-1) 1pt solid;\n",
       "  color: var(--sklearn-color-fitted-level-1);\n",
       "}\n",
       "\n",
       "/* On hover */\n",
       "#sk-container-id-3 a.estimator_doc_link:hover {\n",
       "  /* unfitted */\n",
       "  background-color: var(--sklearn-color-unfitted-level-3);\n",
       "  color: var(--sklearn-color-background);\n",
       "  text-decoration: none;\n",
       "}\n",
       "\n",
       "#sk-container-id-3 a.estimator_doc_link.fitted:hover {\n",
       "  /* fitted */\n",
       "  background-color: var(--sklearn-color-fitted-level-3);\n",
       "}\n",
       "</style><div id=\"sk-container-id-3\" class=\"sk-top-container\"><div class=\"sk-text-repr-fallback\"><pre>KMeans(n_clusters=2, random_state=0)</pre><b>In a Jupyter environment, please rerun this cell to show the HTML representation or trust the notebook. <br />On GitHub, the HTML representation is unable to render, please try loading this page with nbviewer.org.</b></div><div class=\"sk-container\" hidden><div class=\"sk-item\"><div class=\"sk-estimator fitted sk-toggleable\"><input class=\"sk-toggleable__control sk-hidden--visually\" id=\"sk-estimator-id-3\" type=\"checkbox\" checked><label for=\"sk-estimator-id-3\" class=\"sk-toggleable__label fitted sk-toggleable__label-arrow fitted\">&nbsp;&nbsp;KMeans<a class=\"sk-estimator-doc-link fitted\" rel=\"noreferrer\" target=\"_blank\" href=\"https://scikit-learn.org/1.4/modules/generated/sklearn.cluster.KMeans.html\">?<span>Documentation for KMeans</span></a><span class=\"sk-estimator-doc-link fitted\">i<span>Fitted</span></span></label><div class=\"sk-toggleable__content fitted\"><pre>KMeans(n_clusters=2, random_state=0)</pre></div> </div></div></div></div>"
      ]
     },
     "execution_count": 31,
     "metadata": {},
     "output_type": "execute_result"
    }
   ],
   "execution_count": 31
  },
  {
   "cell_type": "code",
   "source": [
    "#Pasul 5 - testare model\n",
    "computedTestIndexes = unsupervisedClassifier.predict(testFeatures)\n",
    "computedTestOutputs = [labelNames[value] for value in computedTestIndexes]\n",
    "for i in range(0, len(testInputs)):\n",
    "    print(testInputs[i], \" -> \", computedTestOutputs[i])"
   ],
   "metadata": {
    "collapsed": false,
    "ExecuteTime": {
     "end_time": "2024-05-14T07:56:03.750250Z",
     "start_time": "2024-05-14T07:56:03.732252Z"
    }
   },
   "id": "2c2a139d34a9652a",
   "outputs": [
    {
     "name": "stdout",
     "output_type": "stream",
     "text": [
      "The bed is very comfortable.  ->  negative\n",
      "Very spacious rooms, quiet and very comfortable.  ->  negative\n",
      "Corridors filthy\n",
      "Room filthy\n",
      "Electrical cables in room not safe\n",
      "Whole building smelly\n",
      "Shower repulsive  ->  negative\n",
      "walls seem to have no sound insulation  ->  negative\n",
      "The building was under renovation,  ->  negative\n",
      "no elevator might be a challenge for some people  ->  positive\n",
      "The bed was highly uncomfortable, although the engineer fixed it  ->  negative\n",
      "bed, smell.  ->  negative\n",
      "Detest the glass \"door\" if shower/tub .. with?  ->  negative\n",
      "this was expected, clean towels and room cleaned every day.  ->  negative\n",
      "More plug outlets with surge protectors.  ->  negative\n",
      "Room was very spacious  ->  positive\n",
      "Roof terrace great  ->  negative\n",
      "No tea or coffee making facilities in the rooms  ->  negative\n",
      "the room had aircon and we had earplugs and slept soundly.  ->  negative\n",
      "Also, when the bright bathroom lights are turned on, it lights up the whole hotel room, shining thru the frosted glass panels.  ->  negative\n",
      "Bathroom was extra small,  ->  negative\n",
      "Wifi connected  ->  negative\n",
      "Windows haven't been cleaned for years (if ever).  ->  negative\n",
      "No wardrobe, no space for luggage, no towel change, walls are not sound proof thus very noisy.  ->  negative\n"
     ]
    }
   ],
   "execution_count": 32
  },
  {
   "cell_type": "code",
   "source": [
    " #Pasul 6 - calcul metrici de performanta\n",
    "from sklearn.metrics import accuracy_score\n",
    "print(\"Accuracy: \", accuracy_score(testOutputs, computedTestOutputs))\n",
    "print(\"\\n\")"
   ],
   "metadata": {
    "collapsed": false,
    "ExecuteTime": {
     "end_time": "2024-05-14T07:56:06.218161Z",
     "start_time": "2024-05-14T07:56:06.199154Z"
    }
   },
   "id": "5b41712e965324a2",
   "outputs": [
    {
     "name": "stdout",
     "output_type": "stream",
     "text": [
      "Accuracy:  0.7\n",
      "\n",
      "\n"
     ]
    }
   ],
   "execution_count": 33
  },
  {
   "cell_type": "code",
   "source": [
    "#folosim clasificatorul bazat pe k-means antrenat de noi pentru a clasifica textul dat\n",
    "text =[ \"By choosing a bike over a car, I’m reducing my environmental footprint. Cycling promotes eco-friendly \"\n",
    "        \"transportation, and I’m proud to be part of that movement.\"]\n",
    "text_features = vectorizer.transform(text)\n",
    "\n",
    "# Predicția clusterului pentru mesaj\n",
    "text_cluster_index = unsupervisedClassifier.predict(text_features)[0]\n",
    "computedTestOutputs = labelNames[text_cluster_index]\n",
    "print(\"Prediction for given input text -->\", computedTestOutputs)"
   ],
   "metadata": {
    "collapsed": false,
    "ExecuteTime": {
     "end_time": "2024-05-14T07:56:08.387424Z",
     "start_time": "2024-05-14T07:56:08.367978Z"
    }
   },
   "id": "b44e4b33532856c8",
   "outputs": [
    {
     "name": "stdout",
     "output_type": "stream",
     "text": [
      "Prediction for given input text --> negative\n"
     ]
    }
   ],
   "execution_count": 34
  },
  {
   "cell_type": "code",
   "source": [
    "from sklearn.metrics import accuracy_score\n",
    "true_label= \"positive\"\n",
    "print(\"acc: \", accuracy_score([true_label], [computedTestOutputs]))\n",
    "print(\"\\n\")"
   ],
   "metadata": {
    "collapsed": false,
    "ExecuteTime": {
     "end_time": "2024-05-14T07:56:10.443484Z",
     "start_time": "2024-05-14T07:56:10.434496Z"
    }
   },
   "id": "89e4674975f864b9",
   "outputs": [
    {
     "name": "stdout",
     "output_type": "stream",
     "text": [
      "acc:  0.0\n",
      "\n",
      "\n"
     ]
    }
   ],
   "execution_count": 35
  },
  {
   "cell_type": "markdown",
   "source": "EXTRAGERE CARACTERISTICI DIN TEXTE FOLOSIND ALTE CARACTERISTICI",
   "metadata": {
    "collapsed": false
   },
   "id": "667f4ac9f1aebdb1"
  },
  {
   "cell_type": "code",
   "source": [
    "def average_word_length(text):\n",
    "    words = text.split()\n",
    "    if len(words) == 0:\n",
    "        return 0\n",
    "    total_length = sum(len(word) for word in words)\n",
    "    return total_length / len(words)"
   ],
   "metadata": {
    "collapsed": false,
    "ExecuteTime": {
     "end_time": "2024-05-14T07:43:48.827536Z",
     "start_time": "2024-05-14T07:43:48.814539Z"
    }
   },
   "id": "bec220b548e2c84c",
   "outputs": [],
   "execution_count": 9
  },
  {
   "cell_type": "code",
   "source": [
    "import nltk\n",
    "import ssl\n",
    "from nltk.tokenize import word_tokenize, sent_tokenize\n",
    "from nltk.tag import pos_tag\n",
    "\n",
    "# try:\n",
    "#     _create_unverified_https_context = ssl._create_unverified_context\n",
    "# except AttributeError:\n",
    "#     pass\n",
    "# else:\n",
    "#     ssl._create_default_https_context = _create_unverified_https_context\n",
    "# \n",
    "# nltk.download('punkt')\n",
    "# nltk.download('averaged_perceptron_tagger')\n",
    "\n",
    "def extract_features(text):\n",
    "    # Numărul de cuvinte\n",
    "    word_count = len(word_tokenize(text))\n",
    "    # Numărul de caractere\n",
    "    char_count = len(text)\n",
    "    # Numărul de propoziții\n",
    "    sentence_count = len(sent_tokenize(text))\n",
    "    # Tokenizare și etichetare POS (Part of Speech)\n",
    "    tokens = word_tokenize(text)\n",
    "    pos_tags = pos_tag(tokens)\n",
    "    # Numărul de adjective și verbe\n",
    "    adjective_count = len([word for word, tag in pos_tags if tag.startswith('JJ')])\n",
    "    verb_count = len([word for word, tag in pos_tags if tag.startswith('VB')])\n",
    "\n",
    "    return [word_count, char_count, sentence_count, adjective_count, verb_count]"
   ],
   "metadata": {
    "collapsed": false,
    "ExecuteTime": {
     "end_time": "2024-05-14T07:44:16.340281Z",
     "start_time": "2024-05-14T07:44:15.031504Z"
    }
   },
   "id": "46818917551ef101",
   "outputs": [
    {
     "name": "stderr",
     "output_type": "stream",
     "text": [
      "[nltk_data] Downloading package punkt to\n",
      "[nltk_data]     C:\\Users\\x\\AppData\\Roaming\\nltk_data...\n",
      "[nltk_data]   Package punkt is already up-to-date!\n",
      "[nltk_data] Downloading package averaged_perceptron_tagger to\n",
      "[nltk_data]     C:\\Users\\x\\AppData\\Roaming\\nltk_data...\n",
      "[nltk_data]   Unzipping taggers\\averaged_perceptron_tagger.zip.\n"
     ]
    }
   ],
   "execution_count": 12
  },
  {
   "cell_type": "code",
   "source": [
    "# Extrage caracteristici pentru seturile de antrenament și test\n",
    "\n",
    "trainAvgWordLength = [average_word_length(text) for text in trainInputs]\n",
    "testAvgWordLength = [average_word_length(text) for text in testInputs]\n",
    "\n",
    "trainAvgWordLength = np.array(trainAvgWordLength).reshape(-1, 1)\n",
    "testAvgWordLength = np.array(testAvgWordLength).reshape(-1, 1)\n",
    "\n",
    "# Concatenam noile caracrcteristici celor vechi\n",
    "trainFeaturesExtended = np.hstack((trainFeatures, trainAvgWordLength , np.array([extract_features(text) for text in trainInputs])))\n",
    "testFeaturesExtended = np.hstack((testFeatures,testAvgWordLength, np.array([extract_features(text) for text in testInputs])))"
   ],
   "metadata": {
    "collapsed": false,
    "ExecuteTime": {
     "end_time": "2024-05-14T07:44:25.968589Z",
     "start_time": "2024-05-14T07:44:25.697928Z"
    }
   },
   "id": "e0ac64a4aaecff8e",
   "outputs": [],
   "execution_count": 13
  },
  {
   "cell_type": "code",
   "source": [
    "# Antrenare\n",
    "unsupervisedClassifier.fit(trainFeaturesExtended)\n",
    "\n",
    "# Testare\n",
    "computedTestIndexes = unsupervisedClassifier.predict(testFeaturesExtended)\n",
    "computedTestOutputs = [labelNames[value] for value in computedTestIndexes]\n",
    "for i in range(0, len(testInputs)):\n",
    "    print(testInputs[i], \" -> \", computedTestOutputs[i])\n",
    "\n",
    "print(\"Accuracy after the new feature: \", accuracy_score(testOutputs, computedTestOutputs))\n",
    "print(\"\\n\")"
   ],
   "metadata": {
    "collapsed": false,
    "ExecuteTime": {
     "end_time": "2024-05-14T07:44:28.273212Z",
     "start_time": "2024-05-14T07:44:28.253254Z"
    }
   },
   "id": "6dfbf37655821045",
   "outputs": [
    {
     "name": "stdout",
     "output_type": "stream",
     "text": [
      "The bed is very comfortable.  ->  positive\n",
      "Very spacious rooms, quiet and very comfortable.  ->  positive\n",
      "Corridors filthy\n",
      "Room filthy\n",
      "Electrical cables in room not safe\n",
      "Whole building smelly\n",
      "Shower repulsive  ->  negative\n",
      "walls seem to have no sound insulation  ->  positive\n",
      "The building was under renovation,  ->  positive\n",
      "no elevator might be a challenge for some people  ->  positive\n",
      "The bed was highly uncomfortable, although the engineer fixed it  ->  positive\n",
      "bed, smell.  ->  positive\n",
      "Detest the glass \"door\" if shower/tub .. with?  ->  positive\n",
      "this was expected, clean towels and room cleaned every day.  ->  positive\n",
      "More plug outlets with surge protectors.  ->  positive\n",
      "Room was very spacious  ->  positive\n",
      "Roof terrace great  ->  positive\n",
      "No tea or coffee making facilities in the rooms  ->  positive\n",
      "the room had aircon and we had earplugs and slept soundly.  ->  positive\n",
      "Also, when the bright bathroom lights are turned on, it lights up the whole hotel room, shining thru the frosted glass panels.  ->  negative\n",
      "Bathroom was extra small,  ->  positive\n",
      "Wifi connected  ->  positive\n",
      "Windows haven't been cleaned for years (if ever).  ->  positive\n",
      "No wardrobe, no space for luggage, no towel change, walls are not sound proof thus very noisy.  ->  negative\n",
      "Accuracy after the new feature:  0.45\n",
      "\n",
      "\n"
     ]
    }
   ],
   "execution_count": 14
  },
  {
   "cell_type": "markdown",
   "source": [],
   "metadata": {
    "collapsed": false
   },
   "id": "d92a0e7791f2142f"
  },
  {
   "cell_type": "markdown",
   "source": [
    "ALTERNATIVE LA K-MEANS SI ANALIZA PERFORMANTELOR"
   ],
   "metadata": {
    "collapsed": false
   },
   "id": "23f8c8f5ccba4dc3"
  },
  {
   "cell_type": "code",
   "execution_count": 85,
   "outputs": [],
   "source": [
    "# DBSCAN"
   ],
   "metadata": {
    "collapsed": false,
    "ExecuteTime": {
     "end_time": "2024-05-08T15:34:56.006671Z",
     "start_time": "2024-05-08T15:34:55.789429Z"
    }
   },
   "id": "bb655f05b484f7d9"
  },
  {
   "cell_type": "markdown",
   "source": [
    "DBSCAN (Density-Based Spatial Clustering of Applications with Noise) este un algoritm de clusterizare care funcționează pe baza densității de puncte în spațiul de caracteristici. Iată o explicație teoretică a modului în care funcționează DBSCAN:\n",
    "\n",
    "Puncte de bază (core points):\n",
    "DBSCAN utilizează două parametri principale: epsilon (eps) și min_samples.\n",
    "Un punct \n",
    "P\n",
    "P este considerat un punct de bază (core point) dacă într-o sferă cu rază \n",
    "ϵ\n",
    "ϵ (epsilon) centrată în jurul lui \n",
    "P\n",
    "P există cel puțin \\text{min_samples} puncte (inclusiv el însuși).\n",
    "Vecini și puncte de frontieră:\n",
    "Punctele care sunt în sfera de rază \n",
    "ϵ\n",
    "ϵ a unui punct de bază, dar nu sunt ele însele puncte de bază, sunt denumite puncte de frontieră.\n",
    "Un punct care nu este nici punct de bază, nici punct de frontieră este considerat zgomot (noise point).\n",
    "Construirea clusterelor:\n",
    "Algoritmul DBSCAN construiește clusterul pentru fiecare punct de bază și toate punctele de frontieră conectate la el (prin vecinii lor).\n",
    "Dacă două puncte de bază sunt conectate direct sau prin alte puncte de bază, ele sunt parte din același cluster.\n",
    "Detectarea zgomotului:\n",
    "Punctele care nu sunt conectate la niciun alt punct sunt considerate zgomot și nu fac parte din niciun cluster.\n",
    "Parametrii algoritmului:\n",
    "Epsilon (eps) specifică raza maximă de distanță între două puncte pentru a fi considerate vecini.\n",
    "min_samples specifică numărul minim de puncte necesare în sfera de rază epsilon pentru ca un punct să fie considerat punct de bază."
   ],
   "metadata": {
    "collapsed": false
   },
   "id": "2e543bf5cb2c5eba"
  },
  {
   "cell_type": "code",
   "source": [
    "# DBSCAN\n",
    "\n",
    "from sklearn.cluster import DBSCAN, AgglomerativeClustering\n",
    "\n",
    "#min_samples = 5 indica cate data points minim sa fie intr o regiune pt a fi un cluster\n",
    "#epsilon = 0.5 raza maxima de distanta dintre 2 pct pt a fi considerate grupate impreuna\n",
    "dbscan = DBSCAN(eps=0.5, min_samples=5)\n",
    "dbscan_labels = dbscan.fit_predict(trainFeatures)\n",
    "\n",
    "# Testare performanta DBSCAN\n",
    "computedTestIndexes = dbscan.fit_predict(testFeatures)\n",
    "computedTestOutputs = [labelNames[value] for value in computedTestIndexes]\n",
    "\n",
    "print(\"Accuracy DBSCAN: \", accuracy_score(testOutputs, computedTestOutputs))\n",
    "print(\"\\n\")"
   ],
   "metadata": {
    "collapsed": false,
    "ExecuteTime": {
     "end_time": "2024-05-14T07:45:03.039311Z",
     "start_time": "2024-05-14T07:45:03.010972Z"
    }
   },
   "id": "ff111550325c944e",
   "outputs": [
    {
     "name": "stdout",
     "output_type": "stream",
     "text": [
      "Accuracy DBSCAN:  0.7\n",
      "\n",
      "\n"
     ]
    }
   ],
   "execution_count": 15
  },
  {
   "cell_type": "code",
   "execution_count": 87,
   "outputs": [],
   "source": [
    "# AGLOMERATIV CLUSTERING"
   ],
   "metadata": {
    "collapsed": false,
    "ExecuteTime": {
     "end_time": "2024-05-08T15:34:56.380163Z",
     "start_time": "2024-05-08T15:34:55.832Z"
    }
   },
   "id": "f1811587590ebaed"
  },
  {
   "cell_type": "markdown",
   "source": [
    "Agglomerative Clustering este un algoritm de tip bottom-up, care pornește de la fiecare punct într-un cluster separat și unește iterativ clusterele până când un anumit criteriu este îndeplinit. Iată o explicație teoretică a modului în care funcționează algoritmul Agglomerative Clustering:\n",
    "\n",
    "Inițializare:\n",
    "La început, fiecare punct de date este considerat un cluster individual.\n",
    "Calcularea matricei de distanță:\n",
    "Se calculează o matrice de distanță între toate perechile de puncte de date. Acesta poate fi, de exemplu, distanța Euclidiană sau orice altă măsură de similaritate între puncte.\n",
    "Unirea celor mai apropiate clustere:\n",
    "Se găsește cei doi clustere vecini cei mai apropiați și aceștia sunt uniți într-un nou cluster. Distanța între clustere poate fi măsurată în diverse moduri, cum ar fi distanța minimă, maximă sau media între punctele din cele două clustere.\n",
    "Repetare:\n",
    "Pasul 3 este repetat până când toate punctele sunt unite într-un singur cluster sau până când numărul dorit de clustere este atins.\n",
    "Criterii de oprire:\n",
    "Algoritmul se oprește când un anumit criteriu este îndeplinit, cum ar fi numărul dorit de clustere sau o anumită distanță maximă între clustere."
   ],
   "metadata": {
    "collapsed": false
   },
   "id": "cb27089766152a60"
  },
  {
   "cell_type": "code",
   "source": [
    "#Agglomerative Clustering\n",
    "# #n_clusters = 2 indica cate clusteruri sunt create, deoarece clasificam datele in 'positive' si 'negative'\n",
    "\n",
    "agglo = AgglomerativeClustering(n_clusters=2)\n",
    "agglo_labels = agglo.fit_predict(trainFeatures)\n",
    "computedTestIndexes = agglo.fit_predict(testFeatures)\n",
    "computedTestOutputs = [labelNames[value] for value in computedTestIndexes]\n",
    "print(\"Accuracy agglo: \", accuracy_score(testOutputs, computedTestOutputs))"
   ],
   "metadata": {
    "collapsed": false,
    "ExecuteTime": {
     "end_time": "2024-05-14T07:45:07.790319Z",
     "start_time": "2024-05-14T07:45:07.762390Z"
    }
   },
   "id": "66428effb50368c2",
   "outputs": [
    {
     "name": "stdout",
     "output_type": "stream",
     "text": [
      "Accuracy agglo:  0.45\n"
     ]
    }
   ],
   "execution_count": 16
  }
 ],
 "metadata": {
  "kernelspec": {
   "display_name": "Python 3",
   "language": "python",
   "name": "python3"
  },
  "language_info": {
   "codemirror_mode": {
    "name": "ipython",
    "version": 2
   },
   "file_extension": ".py",
   "mimetype": "text/x-python",
   "name": "python",
   "nbconvert_exporter": "python",
   "pygments_lexer": "ipython2",
   "version": "2.7.6"
  }
 },
 "nbformat": 4,
 "nbformat_minor": 5
}
