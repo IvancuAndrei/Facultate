{
 "cells": [
  {
   "cell_type": "code",
   "source": [
    "import random\n",
    "class LantMarkov:\n",
    "\n",
    "    def __init__(self, file):\n",
    "        self.input_file = file\n",
    "        self.lant_markov = {}\n",
    "        \n",
    "        self.cuvinte = []\n",
    "        \n",
    "        self._citeste_text()\n",
    "        self._construieste_lant_markov()\n",
    "\n",
    "    def _citeste_text(self):\n",
    "        with open(self.input_file, 'r', encoding='utf-8') as fisier:\n",
    "            text = fisier.read()\n",
    "        text = text.lower() \n",
    "        self.cuvinte = text.split() \n",
    "    \n",
    "    def _construieste_lant_markov(self):\n",
    "        for i in range(len(self.cuvinte) - 1):\n",
    "            cuvant = self.cuvinte[i]\n",
    "            urmatorul_cuvant = self.cuvinte[i + 1]\n",
    "            if cuvant in self.lant_markov:\n",
    "                self.lant_markov[cuvant].append(urmatorul_cuvant)\n",
    "            else:\n",
    "                self.lant_markov[cuvant] = [urmatorul_cuvant]\n",
    "    \n",
    "    def genereaza_text(self, lungime):\n",
    "        cuvant_initial = random.choice(self.cuvinte)\n",
    "        text_generat = [cuvant_initial]\n",
    "        for _ in range(lungime):\n",
    "            urmatorul_cuvant = random.choice(self.lant_markov[text_generat[-1]])\n",
    "            text_generat.append(urmatorul_cuvant)\n",
    "        return ' '.join(text_generat)\n",
    "\n",
    "\n",
    "lm = LantMarkov('D:\\Facultate - Github\\Facultate\\AI\\Tema8\\data\\proverbe.txt')\n",
    "text_generat = lm.genereaza_text(10)\n",
    "print(text_generat)\n"
   ],
   "metadata": {
    "collapsed": false,
    "ExecuteTime": {
     "end_time": "2024-04-23T07:13:12.329215Z",
     "start_time": "2024-04-23T07:13:12.312213Z"
    }
   },
   "id": "a3ab938dc567df95",
   "outputs": [
    {
     "name": "stdout",
     "output_type": "stream",
     "text": [
      "stie mocanul ce sa moara nu toate mustele fac miere. nu\n"
     ]
    }
   ],
   "execution_count": 1
  },
  {
   "cell_type": "code",
   "source": [
    "import random\n",
    "\n",
    "class MarkovChain:\n",
    "    def __init__(self, n):\n",
    "        self.n = n\n",
    "        self.chain = {}\n",
    "\n",
    "    def add_text(self, text):\n",
    "        words = text.split()\n",
    "        for i in range(len(words) - self.n):\n",
    "            ngram = tuple(words[i:i+self.n])\n",
    "            next_word = words[i+self.n]\n",
    "            if ngram not in self.chain:\n",
    "                self.chain[ngram] = {}\n",
    "            if next_word not in self.chain[ngram]:\n",
    "                self.chain[ngram][next_word] = 0\n",
    "            self.chain[ngram][next_word] += 1\n",
    "\n",
    "    def generate_text(self, length):\n",
    "        start = random.choice(list(self.chain.keys()))\n",
    "        output = list(start)\n",
    "\n",
    "        while len(output) < length:\n",
    "            current_ngram = tuple(output[-self.n:])\n",
    "            if current_ngram in self.chain:\n",
    "                next_word_candidates = list(self.chain[current_ngram].keys())\n",
    "                probabilities = [self.chain[current_ngram][word] / sum(self.chain[current_ngram].values()) for word in next_word_candidates]\n",
    "                next_word = random.choices(next_word_candidates, weights=probabilities)[0]\n",
    "                output.append(next_word)\n",
    "            else:\n",
    "                break\n",
    "\n",
    "        return ' '.join(output)\n",
    "\n",
    "\n",
    "\n",
    "with open(\"D:\\Facultate - Github\\Facultate\\AI\\Tema8\\data\\corpus-complet.txt\", 'r', encoding='utf-8') as fisier:\n",
    "        text = fisier.read()\n",
    "        text = text.lower() \n",
    "corpus = text\n",
    "n = 2  \n",
    "markov_chain = MarkovChain(n)\n",
    "markov_chain.add_text(corpus)\n",
    "\n",
    "# Generare de text\n",
    "generated_text = markov_chain.generate_text(20) \n",
    "print(generated_text)\n"
   ],
   "metadata": {
    "collapsed": false,
    "ExecuteTime": {
     "end_time": "2024-04-23T07:13:19.299572Z",
     "start_time": "2024-04-23T07:13:19.165575Z"
    }
   },
   "id": "7a7a62f6ab42b24e",
   "outputs": [
    {
     "name": "stdout",
     "output_type": "stream",
     "text": [
      "tulburi talazuri de minuni. şi rătăcesc în tine, cu pizma tuturor... războiul crâncen însă urmează fără capăt; să ţin rob,\n"
     ]
    }
   ],
   "execution_count": 2
  }
 ],
 "metadata": {
  "kernelspec": {
   "display_name": "Python 3",
   "language": "python",
   "name": "python3"
  },
  "language_info": {
   "codemirror_mode": {
    "name": "ipython",
    "version": 2
   },
   "file_extension": ".py",
   "mimetype": "text/x-python",
   "name": "python",
   "nbconvert_exporter": "python",
   "pygments_lexer": "ipython2",
   "version": "2.7.6"
  }
 },
 "nbformat": 4,
 "nbformat_minor": 5
}
