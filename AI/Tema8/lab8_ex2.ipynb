{
 "cells": [
  {
   "cell_type": "code",
   "id": "initial_id",
   "metadata": {
    "collapsed": true,
    "ExecuteTime": {
     "end_time": "2024-04-23T07:16:06.597210Z",
     "start_time": "2024-04-23T07:15:03.033456Z"
    }
   },
   "source": [
    "from datasets import load_dataset\n",
    "import markovify\n",
    "\n",
    "\n",
    "dataset = load_dataset(\"biglam/gutenberg-poetry-corpus\")\n",
    "poetry_text = '\\n'.join(dataset['train']['line'])\n",
    "model = markovify.Text(poetry_text)\n",
    "poetry_stanza = model.make_sentence()\n",
    "\n",
    "print(poetry_stanza)\n"
   ],
   "outputs": [
    {
     "name": "stdout",
     "output_type": "stream",
     "text": [
      "South, where the Ships sail to the slab before you, surging to the farther shore Saw a maiden Fleet of foot was fleetest; Thy voice in voice Discern'd, when one tries to teach the people of that fell capsize, As half in joy and be humble; I was delayed three hours -- what drove to flight; And men laugh To encounter such chaff.\n"
     ]
    }
   ],
   "execution_count": 1
  },
  {
   "cell_type": "code",
   "source": [
    "from textblob import TextBlob\n",
    "\n",
    "fav_poetry = \"All about you And your brother the prince, kidnapped by his inclined body, flying, who seeks the good for us.\"\n",
    "sentiment = TextBlob(fav_poetry).sentiment\n",
    "print(\"Sentiment analysis:\")\n",
    "print(\"Polaritate:\", sentiment.polarity)\n",
    "print(\"Subiectivitate:\", sentiment.subjectivity)"
   ],
   "metadata": {
    "collapsed": false,
    "ExecuteTime": {
     "end_time": "2024-04-23T07:16:07.815185Z",
     "start_time": "2024-04-23T07:16:06.599204Z"
    }
   },
   "id": "36657183a9193906",
   "outputs": [
    {
     "name": "stdout",
     "output_type": "stream",
     "text": [
      "Sentiment analysis:\n",
      "Polaritate: 0.7\n",
      "Subiectivitate: 0.6000000000000001\n"
     ]
    }
   ],
   "execution_count": 2
  },
  {
   "metadata": {
    "ExecuteTime": {
     "end_time": "2024-04-23T07:16:08.066616Z",
     "start_time": "2024-04-23T07:16:07.816186Z"
    }
   },
   "cell_type": "code",
   "source": [
    "import nltk\n",
    "nltk.download('wordnet')"
   ],
   "id": "923755c9a778db3",
   "outputs": [
    {
     "name": "stderr",
     "output_type": "stream",
     "text": [
      "[nltk_data] Downloading package wordnet to\n",
      "[nltk_data]     C:\\Users\\x\\AppData\\Roaming\\nltk_data...\n",
      "[nltk_data]   Package wordnet is already up-to-date!\n"
     ]
    },
    {
     "data": {
      "text/plain": [
       "True"
      ]
     },
     "execution_count": 3,
     "metadata": {},
     "output_type": "execute_result"
    }
   ],
   "execution_count": 3
  },
  {
   "cell_type": "code",
   "source": [
    "import spacy\n",
    "import random\n",
    "from nltk.corpus import wordnet\n",
    "#import en_core_web_sm\n",
    "\n",
    "#nlp = en_core_web_sm.load()\n",
    "\n",
    "nlp = spacy.load(r'C:\\Users\\x\\AppData\\Local\\Programs\\Python\\Python310\\Lib\\site-packages\\en_core_web_sm\\en_core_web_sm-3.7.1')\n",
    "\n",
    "\n",
    "\n",
    "def get_synonyms(word):\n",
    "    synonyms = []\n",
    "    for syn in wordnet.synsets(word):\n",
    "        for lemma in syn.lemmas():\n",
    "            synonyms.append(lemma.name())\n",
    "    return list(set(synonyms))\n",
    "\n",
    "def generate_synonym(word):\n",
    "    synonyms = get_synonyms(word)\n",
    "    if synonyms:\n",
    "        return random.choice(synonyms)\n",
    "    else:\n",
    "        return word\n",
    "\n",
    "doc = nlp(poetry_stanza)\n",
    "for token in doc:\n",
    "    # fara cuvinte cheie (nu este un punctuație sau spațiu)\n",
    "    if token.text.strip() and not token.is_punct and not token.is_space:\n",
    "        synonym = generate_synonym(token.text)\n",
    "        poetry_stanza = poetry_stanza.replace(token.text, synonym, 1) \n",
    "\n",
    "\n",
    "print(\"Poetry with synonyms replaced:\")\n",
    "print(poetry_stanza)\n"
   ],
   "metadata": {
    "collapsed": false,
    "ExecuteTime": {
     "end_time": "2024-04-23T07:16:12.513790Z",
     "start_time": "2024-04-23T07:16:08.068582Z"
    }
   },
   "id": "d7eba062177c172e",
   "outputs": [
    {
     "name": "stdout",
     "output_type": "stream",
     "text": [
      "Poetry with synonyms replaced:\n",
      "to_the_south, where the embArk voyage to the slab earlier you, surgiodinendianag to the farther land go_out a indiumitiative fade of animal_foot follow fleet; Thy sound in vox Discern'd, when unity try_on to instruct the multitude of that devolve turn_turtle, American_Samoa one-half in joy and equal humble; I follow check three hours -- what swarm to trajectory; And human_being gag To happen such chaff.\n"
     ]
    }
   ],
   "execution_count": 4
  },
  {
   "cell_type": "code",
   "source": [
    "fav_poetry = \"All about you And your brother the prince, kidnapped by his inclined body, flying, who seeks the good for us.\""
   ],
   "metadata": {
    "collapsed": false,
    "ExecuteTime": {
     "end_time": "2024-04-23T07:16:12.528795Z",
     "start_time": "2024-04-23T07:16:12.516790Z"
    }
   },
   "id": "938bd810e3b6042e",
   "outputs": [],
   "execution_count": 5
  },
  {
   "metadata": {
    "ExecuteTime": {
     "end_time": "2024-04-23T07:16:12.590794Z",
     "start_time": "2024-04-23T07:16:12.531795Z"
    }
   },
   "cell_type": "code",
   "source": [
    "from nltk.translate.bleu_score import sentence_bleu\n",
    "import random\n",
    "\n",
    "class LantMarkov:\n",
    "\n",
    "    def __init__(self, file):\n",
    "        self.input_file = file\n",
    "        self.lant_markov = {}\n",
    "        \n",
    "        self.cuvinte = []\n",
    "        \n",
    "        self._citeste_text()\n",
    "        self._construieste_lant_markov()\n",
    "\n",
    "    def _citeste_text(self):\n",
    "        with open(self.input_file, 'r', encoding='utf-8') as fisier:\n",
    "            text = fisier.read()\n",
    "        text = text.lower() \n",
    "        self.cuvinte = text.split() \n",
    "    \n",
    "    def _construieste_lant_markov(self):\n",
    "        for i in range(len(self.cuvinte) - 1):\n",
    "            cuvant = self.cuvinte[i]\n",
    "            urmatorul_cuvant = self.cuvinte[i + 1]\n",
    "            if cuvant in self.lant_markov:\n",
    "                self.lant_markov[cuvant].append(urmatorul_cuvant)\n",
    "            else:\n",
    "                self.lant_markov[cuvant] = [urmatorul_cuvant]\n",
    "    \n",
    "    def genereaza_text(self,cuvant_initial,  lungime):\n",
    "        text_generat = [cuvant_initial]\n",
    "        for _ in range(lungime):\n",
    "            urmatorul_cuvant = random.choice(self.lant_markov[text_generat[-1]])\n",
    "            text_generat.append(urmatorul_cuvant)\n",
    "        return ' '.join(text_generat)\n",
    "\n",
    "\n",
    "lm = LantMarkov('D:\\Facultate - Github\\Facultate\\AI\\Tema8\\data\\proverbe.txt')\n",
    "generated_poem = lm.genereaza_text(\"baba\", 6)\n",
    "print(generated_poem)\n",
    "reference_poem = \"baba nu aude dar le potriveste.\"\n",
    "\n",
    "\n",
    "reference_tokens = nltk.word_tokenize(reference_poem.lower())\n",
    "generated_tokens = nltk.word_tokenize(generated_poem.lower())\n",
    "\n",
    "bleu_score = sentence_bleu([reference_tokens], generated_tokens)\n",
    "\n",
    "# Afișarea scorului BLEU\n",
    "print(\"BLEU Score:\", bleu_score)\n"
   ],
   "id": "97b63ab1f751bc2e",
   "outputs": [
    {
     "name": "stdout",
     "output_type": "stream",
     "text": [
      "baba se face. cine se face primavara.\n",
      "BLEU Score: 1.2508498911928379e-231\n"
     ]
    },
    {
     "name": "stderr",
     "output_type": "stream",
     "text": [
      "D:\\Facultate - Github\\Facultate\\AI\\Tema8\\.venv\\lib\\site-packages\\nltk\\translate\\bleu_score.py:552: UserWarning: \n",
      "The hypothesis contains 0 counts of 2-gram overlaps.\n",
      "Therefore the BLEU score evaluates to 0, independently of\n",
      "how many N-gram overlaps of lower order it contains.\n",
      "Consider using lower n-gram order or use SmoothingFunction()\n",
      "  warnings.warn(_msg)\n",
      "D:\\Facultate - Github\\Facultate\\AI\\Tema8\\.venv\\lib\\site-packages\\nltk\\translate\\bleu_score.py:552: UserWarning: \n",
      "The hypothesis contains 0 counts of 3-gram overlaps.\n",
      "Therefore the BLEU score evaluates to 0, independently of\n",
      "how many N-gram overlaps of lower order it contains.\n",
      "Consider using lower n-gram order or use SmoothingFunction()\n",
      "  warnings.warn(_msg)\n",
      "D:\\Facultate - Github\\Facultate\\AI\\Tema8\\.venv\\lib\\site-packages\\nltk\\translate\\bleu_score.py:552: UserWarning: \n",
      "The hypothesis contains 0 counts of 4-gram overlaps.\n",
      "Therefore the BLEU score evaluates to 0, independently of\n",
      "how many N-gram overlaps of lower order it contains.\n",
      "Consider using lower n-gram order or use SmoothingFunction()\n",
      "  warnings.warn(_msg)\n"
     ]
    }
   ],
   "execution_count": 6
  },
  {
   "metadata": {
    "ExecuteTime": {
     "end_time": "2024-04-23T07:16:12.669789Z",
     "start_time": "2024-04-23T07:16:12.592795Z"
    }
   },
   "cell_type": "code",
   "source": [
    "import nltk\n",
    "nltk.download('punkt')"
   ],
   "id": "8a56fc5010863f00",
   "outputs": [
    {
     "name": "stderr",
     "output_type": "stream",
     "text": [
      "[nltk_data] Downloading package punkt to\n",
      "[nltk_data]     C:\\Users\\x\\AppData\\Roaming\\nltk_data...\n",
      "[nltk_data]   Package punkt is already up-to-date!\n"
     ]
    },
    {
     "data": {
      "text/plain": [
       "True"
      ]
     },
     "execution_count": 7,
     "metadata": {},
     "output_type": "execute_result"
    }
   ],
   "execution_count": 7
  }
 ],
 "metadata": {
  "kernelspec": {
   "display_name": "Python 3",
   "language": "python",
   "name": "python3"
  },
  "language_info": {
   "codemirror_mode": {
    "name": "ipython",
    "version": 2
   },
   "file_extension": ".py",
   "mimetype": "text/x-python",
   "name": "python",
   "nbconvert_exporter": "python",
   "pygments_lexer": "ipython2",
   "version": "2.7.6"
  }
 },
 "nbformat": 4,
 "nbformat_minor": 5
}
